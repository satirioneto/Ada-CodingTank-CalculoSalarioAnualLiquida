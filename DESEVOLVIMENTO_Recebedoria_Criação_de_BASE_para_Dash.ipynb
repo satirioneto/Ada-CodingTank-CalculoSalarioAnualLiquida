{
  "nbformat": 4,
  "nbformat_minor": 0,
  "metadata": {
    "colab": {
      "provenance": [],
      "authorship_tag": "ABX9TyMLF7fl0611brJ5H+1M54Ls",
      "include_colab_link": true
    },
    "kernelspec": {
      "name": "python3",
      "display_name": "Python 3"
    },
    "language_info": {
      "name": "python"
    }
  },
  "cells": [
    {
      "cell_type": "markdown",
      "metadata": {
        "id": "view-in-github",
        "colab_type": "text"
      },
      "source": [
        "<a href=\"https://colab.research.google.com/github/satirioneto/Ada-CodingTank-CalculoSalarioAnualLiquida/blob/main/DESEVOLVIMENTO_Recebedoria_Cria%C3%A7%C3%A3o_de_BASE_para_Dash.ipynb\" target=\"_parent\"><img src=\"https://colab.research.google.com/assets/colab-badge.svg\" alt=\"Open In Colab\"/></a>"
      ]
    },
    {
      "cell_type": "markdown",
      "source": [
        "#**Instruções de Uso**\n",
        "\n",
        "Esse Notebook tem como objetivo a criação e atualização da base de dados do Dash da [Recebedoria - Andamento do Tiflux](https://lookerstudio.google.com/reporting/643e0afb-53b6-47bb-9d86-e261e92f927d).\n",
        "\n",
        "Para atualizar a base de dados o usuário terá que executar esse Script, segue passo a passo para utilização da ferramenta:\n",
        "* Clicar em **Ambiente de execução > Executar Tudo**\n",
        "A\n"
      ],
      "metadata": {
        "id": "lSCyBLolm7I2"
      }
    },
    {
      "cell_type": "markdown",
      "source": [
        "# **Instala Bibliotecas e monta o GDrive**"
      ],
      "metadata": {
        "id": "q8jRYdMpk6Qw"
      }
    },
    {
      "cell_type": "code",
      "source": [
        "!pip install pandasql\n",
        "!pip install numpy"
      ],
      "metadata": {
        "colab": {
          "base_uri": "https://localhost:8080/"
        },
        "collapsed": true,
        "id": "r5U5SrbBiNyV",
        "outputId": "cb918193-b0a0-4c55-cc70-af9183c75c69"
      },
      "execution_count": null,
      "outputs": [
        {
          "output_type": "stream",
          "name": "stdout",
          "text": [
            "Requirement already satisfied: pandasql in /usr/local/lib/python3.10/dist-packages (0.7.3)\n",
            "Requirement already satisfied: numpy in /usr/local/lib/python3.10/dist-packages (from pandasql) (1.26.4)\n",
            "Requirement already satisfied: pandas in /usr/local/lib/python3.10/dist-packages (from pandasql) (2.2.2)\n",
            "Requirement already satisfied: sqlalchemy in /usr/local/lib/python3.10/dist-packages (from pandasql) (2.0.36)\n",
            "Requirement already satisfied: python-dateutil>=2.8.2 in /usr/local/lib/python3.10/dist-packages (from pandas->pandasql) (2.8.2)\n",
            "Requirement already satisfied: pytz>=2020.1 in /usr/local/lib/python3.10/dist-packages (from pandas->pandasql) (2024.2)\n",
            "Requirement already satisfied: tzdata>=2022.7 in /usr/local/lib/python3.10/dist-packages (from pandas->pandasql) (2024.2)\n",
            "Requirement already satisfied: typing-extensions>=4.6.0 in /usr/local/lib/python3.10/dist-packages (from sqlalchemy->pandasql) (4.12.2)\n",
            "Requirement already satisfied: greenlet!=0.4.17 in /usr/local/lib/python3.10/dist-packages (from sqlalchemy->pandasql) (3.1.1)\n",
            "Requirement already satisfied: six>=1.5 in /usr/local/lib/python3.10/dist-packages (from python-dateutil>=2.8.2->pandas->pandasql) (1.17.0)\n",
            "Requirement already satisfied: numpy in /usr/local/lib/python3.10/dist-packages (1.26.4)\n",
            "Drive already mounted at /content/drive; to attempt to forcibly remount, call drive.mount(\"/content/drive\", force_remount=True).\n"
          ]
        }
      ]
    },
    {
      "cell_type": "code",
      "source": [
        "from google.colab import drive\n",
        "\n",
        "import pandas as pd\n",
        "import pandasql as psql\n",
        "import numpy as np\n",
        "\n",
        "drive.mount('/content/drive')"
      ],
      "metadata": {
        "id": "mpLz5e38lDSs"
      },
      "execution_count": null,
      "outputs": []
    },
    {
      "cell_type": "markdown",
      "source": [
        "# **Acessa o arquivo no GDrive e cria o DataFrame**"
      ],
      "metadata": {
        "id": "LuXSoG3plpdM"
      }
    },
    {
      "cell_type": "code",
      "source": [
        "base_tiflux = '/content/drive/Shareddrives/Controladoria - Dep. de Recebedoria/BASE TIFLUX MESAS PRINCIPAIS.xlsx'\n",
        "\n",
        "base_tiflux = pd.read_excel(base_tiflux)\n",
        "\n",
        "query = '''\n",
        "SELECT Número, Status, Estágio, Cliente, Título, Mesa,Prioridade, Origem, \"Criado em\", \"Fechado em\", \"Atualizado em\", \"Centro de Custo\", \"Numero da Nota Fiscal\", Setor, Valor, Vencimento FROM df\n",
        "'''\n",
        "\n",
        "base_tiflux = psql.sqldf(query, locals())"
      ],
      "metadata": {
        "id": "qrRNpFvUyY1P"
      },
      "execution_count": null,
      "outputs": []
    },
    {
      "cell_type": "markdown",
      "source": [
        "# **Autenticação para acesso as planilhas do GDrive**"
      ],
      "metadata": {
        "id": "12t7SNWVl2kY"
      }
    },
    {
      "cell_type": "code",
      "source": [
        "from google.colab import auth\n",
        "import gspread\n",
        "from google.auth import default\n",
        "\n",
        "auth.authenticate_user()\n",
        "creds, _ = default()\n",
        "gc = gspread.authorize(creds)"
      ],
      "metadata": {
        "id": "_sBYuRz9zh9J"
      },
      "execution_count": null,
      "outputs": []
    },
    {
      "cell_type": "markdown",
      "source": [
        "# **Pega dados do relatório gerado no Tiflux e coloca em Planilha Base para Dashboard**"
      ],
      "metadata": {
        "id": "rTYNlI8OmK3D"
      }
    },
    {
      "cell_type": "code",
      "source": [
        "base_google = 'BASE TIFLUX MESAS PRINCIPAIS'\n",
        "\n",
        "base_google = gc.open(base_google).worksheet('Tickets')\n",
        "\n",
        "base_google.clear()\n",
        "\n",
        "base_google.update([base_tiflux.columns.values.tolist()] + base_tiflux.fillna(-1).values.tolist())\n",
        "\n",
        "print(\"\")"
      ],
      "metadata": {
        "colab": {
          "base_uri": "https://localhost:8080/"
        },
        "id": "BNEYPmicrwnb",
        "outputId": "7822d9e6-3144-4f94-e866-eeac4aca5977"
      },
      "execution_count": null,
      "outputs": [
        {
          "output_type": "stream",
          "name": "stderr",
          "text": [
            "<ipython-input-61-be0ec1bc3582>:7: FutureWarning: Downcasting object dtype arrays on .fillna, .ffill, .bfill is deprecated and will change in a future version. Call result.infer_objects(copy=False) instead. To opt-in to the future behavior, set `pd.set_option('future.no_silent_downcasting', True)`\n",
            "  base_google.update([base_tiflux.columns.values.tolist()] + base_tiflux.fillna(-1).values.tolist())\n"
          ]
        },
        {
          "output_type": "execute_result",
          "data": {
            "text/plain": [
              "{'spreadsheetId': '1kvK3chL-B9jqAdUiv86uNtRAHLo1YzhL5H5VPOCzFMk',\n",
              " 'updatedRange': 'Tickets!A1:P1569',\n",
              " 'updatedRows': 1569,\n",
              " 'updatedColumns': 16,\n",
              " 'updatedCells': 25104}"
            ]
          },
          "metadata": {},
          "execution_count": 61
        }
      ]
    }
  ]
}